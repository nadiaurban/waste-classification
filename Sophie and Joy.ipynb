{
 "cells": [
  {
   "cell_type": "markdown",
   "metadata": {},
   "source": [
    "# Making our own app!"
   ]
  },
  {
   "cell_type": "markdown",
   "metadata": {},
   "source": [
    "![Tutorial Step](app.png)"
   ]
  },
  {
   "cell_type": "markdown",
   "metadata": {},
   "source": [
    "### 1. 📝 Describe Your Model / 描述你的模型\n",
    "\n",
    "In the code cell below, you'll write a short description of your image classification model. This description will appear in the sidebar of your Streamlit app.\n",
    "\n",
    "在下面的代码单元格中，你需要填写一个关于你图像分类模型的简短介绍。这个介绍会出现在你应用程序的侧边栏中。\n",
    "\n",
    "Please update the `st.write()` section with details specific to your project:\n",
    "\n",
    "请根据你自己的项目填写 `st.write()` 中的内容：\n",
    "\n",
    "- Give your app a **name** (e.g., \"Waste Classifier\" or \"Fruit Detector\")  \n",
    "  给你的应用起一个名字（例如：\"废品分类器\" 或 \"水果识别器\"）\n",
    "\n",
    "- Fill in what the app helps classify (e.g., \"glass vs. plastic bottles\", \"fresh vs. rotten fruit\")  \n",
    "  写明这个应用可以分类什么（例如：玻璃瓶 vs. 塑料瓶；新鲜水果 vs. 腐烂水果）\n",
    "\n",
    "- Replace the numbered list with the classes from your model  \n",
    "  用你模型的类别替换下面的编号列表  \n",
    "  *例如：Class 1 - Glass bottle；Class 2 - Plastic bottle*\n",
    "\n",
    "- Complete the design information:  \n",
    "  补充以下设计信息：\n",
    "\n",
    "  - **Goal**: What is your model meant to do?  \n",
    "    **目标**：你的模型是用来做什么的？\n",
    "\n",
    "  - **Data Type**: What kind of images did you use (e.g., object photos, drawings)?  \n",
    "    **数据类型**：你使用的是什么类型的图像（例如：物体照片、绘图等）\n",
    "\n",
    "  - **Data Source**: Where did your data come from (e.g., baidu, camera photos)?  \n",
    "    **数据来源**：你的数据来自哪里（例如：baidu、你自己拍的照片）\n",
    "\n",
    "---\n",
    "\n",
    "Be creative but accurate! Your text should help users understand what your app does and how it was made.\n",
    "\n",
    "发挥你的创造力，同时保持准确性！你的文字应该能帮助用户理解你的应用是做什么的，以及你是怎么制作它的。\n"
   ]
  },
  {
   "cell_type": "markdown",
   "metadata": {},
   "source": [
    "![Tutorial Step](tutorial1.png)\n"
   ]
  },
  {
   "cell_type": "code",
   "execution_count": null,
   "metadata": {},
   "outputs": [],
   "source": [
    "#WRITE HERE\n",
    "\n",
    "with st.sidebar:\n",
    "    # Title for the sidebar\n",
    "    st.title(\"ℹ️ Model Information\")\n",
    "    \n",
    "    # Placeholder model description; update the text below with your model's details.\n",
    "    st.write(\n",
    "    \"\"\"\n",
    "    Rubbish Classification App  \n",
    "    This app helps classify rubbish:\n",
    "\n",
    "    1. plastic\n",
    "    2. glass\n",
    "    3. metal\n",
    "\n",
    "    **Model Design**  \n",
    "    - **Goal:** 🎯 Afraid that someone may not be able to distinguish how to sort garbage.              \n",
    "    - **Data Type:** 🖼️ Images of Rubbish(1) Plastic (z) glass (3) metal\n",
    "    - **Data Source:** 🌐 The images were collected online from BaiDu. \n",
    "    - **Training:** 🏋️ Model trained using Teachable Machine.  \n",
    "    - **Model Type:** 🧠 CNN (Convolutional Neural Network).\n",
    "    \"\"\"\n",
    "    )\n",
    "   "
   ]
  },
  {
   "cell_type": "markdown",
   "metadata": {},
   "source": [
    "### 🖼️ 2. Example Images / 示例图片\n",
    "\n",
    "In the code cell below, you'll edit how your example images appear in the sidebar of your app.  \n",
    "在下面的代码单元格中，你将编辑示例图片在应用侧边栏中的展示方式。\n",
    "\n",
    "Each image block has two parts:  \n",
    "每张图片的部分包括：\n",
    "\n",
    "1. A **title** (shown using `st.write(\"### ...\")`)  \n",
    "   **标题**（用 `st.write(\"### ...\")` 显示）\n",
    "\n",
    "2. A **caption** (shown below the image using `st.image(..., caption=\"...\")`)  \n",
    "   **图片说明**（用 `st.image(..., caption=\"...\")` 显示在图片下方）\n",
    "\n",
    "---\n",
    "\n",
    "🛠️ Your tasks / 你的任务：\n",
    "\n",
    "- Change the text inside `st.write(\"### Example Image X\")` to give your image a proper label  \n",
    "  修改 `st.write(\"### Example Image X\")` 中的文字，为每张图像写一个合适的标题  \n",
    "  （例如：`\"### Glass Bottle (Green)\"`）\n",
    "\n",
    "- Update the caption inside `st.image(...)` with a short, clear description of the image  \n",
    "  在 `st.image(...)` 中填写一段简短清楚的图片说明\n",
    "\n",
    "---\n",
    "\n",
    "📌 Example 示例:\n",
    "```python\n",
    "st.write(\"Class 1: glass bottle\")\n",
    "st.image(img1, caption=\"Glass bottle\")\n"
   ]
  },
  {
   "cell_type": "markdown",
   "metadata": {},
   "source": [
    "![Tutorial Step](tutorial2.png)\n"
   ]
  },
  {
   "cell_type": "code",
   "execution_count": null,
   "metadata": {},
   "outputs": [],
   "source": [
    "#WRITE HERE\n",
    "    st.write(\"### plastic\")\n",
    "    img1 = resize_image(\"example1.png\", 300)  \n",
    "    if img1:\n",
    "        st.image(img1, caption=\"<468>\")\n",
    "\n",
    "    st.write(\"### glass\")\n",
    "    img2 = resize_image(\"example2.png\", 300)  \n",
    "    if img2:\n",
    "        st.image(img2, caption=\"<486>\")\n",
    "        \n",
    "    st.write(\"### metal\")\n",
    "    img3 = resize_image(\"example3.png\", 300)  \n",
    "    if img3:\n",
    "        st.image(img3, caption=\"<396>\")\n"
   ]
  },
  {
   "cell_type": "markdown",
   "metadata": {},
   "source": [
    "### ✍️ 3. Add Your Names to the App / 添加你的名字到应用中\n",
    "\n",
    "In the code cell below, you'll edit the \"Model Authors\" section that appears in the sidebar of your app.  \n",
    "在下面的代码单元格中，你将编辑出现在侧边栏中的“模型作者”部分。\n",
    "\n",
    "---\n",
    "\n",
    "🛠️ Your task / 你的任务：\n",
    "\n",
    "- Replace the placeholder names (`<Insert Author Name>`) with your **full names**, including both your **Chinese and English names**  \n",
    "  把 `<Insert Author Name>` 替换为你自己的 **全名**，**必须写中文名和英文名**\n",
    "\n",
    "---\n",
    "\n",
    "📌 Example 示例:\n",
    "```python\n",
    "st.write(\"### Model Authors\")\n",
    "st.write(\n",
    "    \"\"\"\n",
    "    - **Name:** 张小明 (Alice Zhang)  \n",
    "    - **Name:** 李大伟 (Bob Li)\n",
    "    \"\"\"\n",
    ")\n"
   ]
  },
  {
   "cell_type": "markdown",
   "metadata": {},
   "source": [
    "![Tutorial Step](tutorial3.png)"
   ]
  },
  {
   "cell_type": "code",
   "execution_count": null,
   "metadata": {},
   "outputs": [],
   "source": [
    "#WRITE HERE \n",
    "# Model Authors Section\n",
    "    st.write(\"### Model Authors\")\n",
    "    st.write(\n",
    "        \"\"\"\n",
    "        - **Name:** 刘素婷 <Sophie Liu>  \n",
    "        - **Name:** 乔馨仪<Joy qiao>\n",
    "        \"\"\"\n",
    "    )\n",
    "    \n",
    "    st.caption(\"📝 Use the file uploader or camera input on the main panel to analyze an image.\")"
   ]
  },
  {
   "cell_type": "markdown",
   "metadata": {},
   "source": [
    "### 🎨 4. Customize the Sidebar Color / 自定义侧边栏颜色\n",
    "\n",
    "In the code cell below, you can change the **background color** of the sidebar.  \n",
    "在下面的代码单元格中，你可以修改侧边栏的**背景颜色**。\n",
    "\n",
    "---\n",
    "\n",
    "🛠️ Your task / 你的任务：\n",
    "\n",
    "- Replace the hex code `#87CEFA` with another color of your choice  \n",
    "  把 `#87CEFA` 替换成你喜欢的其他颜色代码  \n",
    "- You must find and use the **hex color code** (e.g., `#FFB6C1` for light pink)  \n",
    "  必须使用 **十六进制颜色代码**（例如：浅粉色是 `#FFB6C1`）\n",
    "\n",
    "---\n",
    "\n",
    "💡 Tip 小提示:  \n",
    "You can search online for “hex color picker” to choose and copy a color code.  \n",
    "你可以在网上搜索 “hex color picker” 来挑选并复制颜色代码。\n"
   ]
  },
  {
   "cell_type": "code",
   "execution_count": null,
   "metadata": {},
   "outputs": [],
   "source": [
    "#WRITE HERE\n",
    "# ---------------------------\n",
    "st.markdown(\n",
    "    \"\"\"\n",
    "    <style>\n",
    "        /* Sidebar styling */\n",
    "        [data-testid=\"stSidebar\"] {\n",
    "            background-color: #90EE90;  /*  Light green background*/\n",
    "        }\n",
    "    "
   ]
  },
  {
   "cell_type": "markdown",
   "metadata": {},
   "source": [
    "### 🖥️ 5. Set the Title and Description of Your App / 设置应用标题和描述\n",
    "\n",
    "In the code cell below, you'll edit the **main title** and **instruction text** that appear at the top of your app.  \n",
    "在下面的代码单元格中，你将修改显示在应用顶部的**主标题**和**说明文字**。\n",
    "\n",
    "---\n",
    "\n",
    "🛠️ Your task / 你的任务：\n",
    "\n",
    "- Change the title inside `<h1 class=\"main-title\">...</h1>` to match the name of your app  \n",
    "  修改 `<h1 class=\"main-title\">...</h1>` 中的文字，填写你的应用名称（例如：\"Recyclable Material Detector\"）\n",
    "\n",
    "- Edit the description inside `<p class=\"main-text\">...</p>` to clearly tell the user what your app does  \n",
    "  修改 `<p class=\"main-text\">...</p>` 中的说明文字，清楚地告诉用户你的应用可以做什么\n",
    "\n",
    "---\n",
    "\n",
    "📌 Example 示例:\n",
    "```python\n",
    "st.markdown('<h1 class=\"main-title\">🧪 Waste Classifier</h1>', unsafe_allow_html=True)\n",
    "st.markdown('<p class=\"main-text\">Upload an image of a bottle to find out if it is made of glass or plastic.</p>', unsafe_allow_html=True)\n"
   ]
  },
  {
   "cell_type": "code",
   "execution_count": 1,
   "metadata": {},
   "outputs": [
    {
     "ename": "NameError",
     "evalue": "name 'st' is not defined",
     "output_type": "error",
     "traceback": [
      "\u001b[0;31m---------------------------------------------------------------------------\u001b[0m",
      "\u001b[0;31mNameError\u001b[0m                                 Traceback (most recent call last)",
      "Cell \u001b[0;32mIn[1], line 3\u001b[0m\n\u001b[1;32m      1\u001b[0m \u001b[38;5;66;03m#WRITE HERE\u001b[39;00m\n\u001b[1;32m      2\u001b[0m \u001b[38;5;66;03m# ---------------------------\u001b[39;00m\n\u001b[0;32m----> 3\u001b[0m \u001b[43mst\u001b[49m\u001b[38;5;241m.\u001b[39mmarkdown(\u001b[38;5;124m'\u001b[39m\u001b[38;5;124m<div class=\u001b[39m\u001b[38;5;124m\"\u001b[39m\u001b[38;5;124mhe>\u001b[39m\u001b[38;5;124m'\u001b[39m, unsafe_allow_html\u001b[38;5;241m=\u001b[39m\u001b[38;5;28;01mTrue\u001b[39;00m)\n\u001b[1;32m      4\u001b[0m st\u001b[38;5;241m.\u001b[39mmarkdown(\u001b[38;5;124m'\u001b[39m\u001b[38;5;124m<h1 class=\u001b[39m\u001b[38;5;124m\"\u001b[39m\u001b[38;5;124mmain-title\u001b[39m\u001b[38;5;124m\"\u001b[39m\u001b[38;5;124m>🔍 Image Recognition Tool</h1>\u001b[39m\u001b[38;5;124m'\u001b[39m, unsafe_allow_html\u001b[38;5;241m=\u001b[39m\u001b[38;5;28;01mTrue\u001b[39;00m)  \u001b[38;5;66;03m# <-- Change to the name of your tool\u001b[39;00m\n\u001b[1;32m      5\u001b[0m st\u001b[38;5;241m.\u001b[39mmarkdown(\u001b[38;5;124m'\u001b[39m\u001b[38;5;124m<p class=\u001b[39m\u001b[38;5;124m\"\u001b[39m\u001b[38;5;124mmain-text\u001b[39m\u001b[38;5;124m\"\u001b[39m\u001b[38;5;124m>Upload or capture an image below to see the model predictions.</p>\u001b[39m\u001b[38;5;124m'\u001b[39m, unsafe_allow_html\u001b[38;5;241m=\u001b[39m\u001b[38;5;28;01mTrue\u001b[39;00m)\n",
      "\u001b[0;31mNameError\u001b[0m: name 'st' is not defined"
     ]
    }
   ],
   "source": [
    "#WRITE HERE\n",
    "# ---------------------------\n",
    "st.markdown('<div class=\"he>', unsafe_allow_html=True)\n",
    "st.markdown('<h1 class=\"main-title\">🔍 Rubbish Classification</h1>', unsafe_allow_html=True)  # <-- Change to the name of your tool\n",
    "st.markdown('<p class=\"main-text\">Upload or capture an image below to see the model predictions.</p>', unsafe_allow_html=True)\n",
    "st.markdown('</div>', unsafe_allow_html=True)"
   ]
  },
  {
   "cell_type": "markdown",
   "metadata": {},
   "source": [
    "![Tutorial Step](tutorial4.png)"
   ]
  },
  {
   "cell_type": "code",
   "execution_count": null,
   "metadata": {},
   "outputs": [],
   "source": []
  }
 ],
 "metadata": {
  "kernelspec": {
   "display_name": "Python 3 (ipykernel)",
   "language": "python",
   "name": "python3"
  },
  "language_info": {
   "codemirror_mode": {
    "name": "ipython",
    "version": 3
   },
   "file_extension": ".py",
   "mimetype": "text/x-python",
   "name": "python",
   "nbconvert_exporter": "python",
   "pygments_lexer": "ipython3",
   "version": "3.11.0"
  }
 },
 "nbformat": 4,
 "nbformat_minor": 4
}
